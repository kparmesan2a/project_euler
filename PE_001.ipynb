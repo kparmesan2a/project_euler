{
 "cells": [
  {
   "cell_type": "markdown",
   "metadata": {},
   "source": [
    "## Problem 1 - Multiples of 3 or 5\n",
    "### Difficulty - 5%\n",
    "\n",
    "#### If we list all the natural numbers below 10 that are multiples of 3 or 5, we get 3, 5, 6, and 9. The sum of these multiples is 23.\n",
    "\n",
    "#### Find the sum of all the multiples of 3 or 5 below 1000."
   ]
  },
  {
   "cell_type": "markdown",
   "metadata": {},
   "source": [
    "To solve this problem, simply add all the multiples of 3 and 5 below 1000, then subtract all the multiples of 15 to avoid double counting."
   ]
  },
  {
   "cell_type": "code",
   "execution_count": 1,
   "metadata": {},
   "outputs": [],
   "source": [
    "def number3or5(n):\n",
    "    m = n - 1\n",
    "    multiples3 = 3*((m//3) * (m//3 + 1))/2      #sum of multiples of 3, using Gauss' method\n",
    "    multiples5 = 5*((m//5) * (m//5 + 1))/2      #sum of multiples of 5, using Gauss' method\n",
    "    multiples15 = 15*((m//15) * (m//15 + 1))/2  #sum of multiples of 15, using Gauss' method\n",
    "\n",
    "    return (multiples3 + multiples5 - multiples15)"
   ]
  },
  {
   "cell_type": "code",
   "execution_count": 2,
   "metadata": {},
   "outputs": [
    {
     "data": {
      "text/plain": [
       "233168.0"
      ]
     },
     "execution_count": 2,
     "metadata": {},
     "output_type": "execute_result"
    }
   ],
   "source": [
    "number3or5(1000) #233168"
   ]
  }
 ],
 "metadata": {
  "kernelspec": {
   "display_name": "base",
   "language": "python",
   "name": "python3"
  },
  "language_info": {
   "codemirror_mode": {
    "name": "ipython",
    "version": 3
   },
   "file_extension": ".py",
   "mimetype": "text/x-python",
   "name": "python",
   "nbconvert_exporter": "python",
   "pygments_lexer": "ipython3",
   "version": "3.9.12"
  }
 },
 "nbformat": 4,
 "nbformat_minor": 2
}
