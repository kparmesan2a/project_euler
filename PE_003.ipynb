{
 "cells": [
  {
   "cell_type": "markdown",
   "metadata": {},
   "source": [
    "## Problem 3 - Largest Prime Factor\n",
    "### Difficulty - 5%\n",
    "\n",
    "#### The prime factors of 13195 are 5, 7, 13 and 29.\n",
    "\n",
    "#### What is the largest prime factor of the number 600851475143?"
   ]
  },
  {
   "cell_type": "markdown",
   "metadata": {},
   "source": [
    "All we need to do is range from 2 all the way until the square root of the number. Each time a prime factor is found, add it to the list and divide the number by it. Keep going with this new number until all the prime factors are found."
   ]
  },
  {
   "cell_type": "code",
   "execution_count": 7,
   "metadata": {},
   "outputs": [],
   "source": [
    "import math \n",
    "\n",
    "def prime_factors(n):\n",
    "    prime_list = []\n",
    "\n",
    "    if n%2 == 0:\n",
    "        prime_list.append(2)\n",
    "        n = n/2\n",
    "\n",
    "    for i in range(3, math.floor(math.sqrt(n)), 2):\n",
    "        if n%i == 0:\n",
    "            prime_list.append(i)\n",
    "            n = n/i\n",
    "    \n",
    "    return prime_list"
   ]
  },
  {
   "cell_type": "code",
   "execution_count": 8,
   "metadata": {},
   "outputs": [
    {
     "data": {
      "text/plain": [
       "[71, 839, 1471, 6857]"
      ]
     },
     "execution_count": 8,
     "metadata": {},
     "output_type": "execute_result"
    }
   ],
   "source": [
    "N = 600851475143\n",
    "\n",
    "prime_factors(N)\n"
   ]
  }
 ],
 "metadata": {
  "kernelspec": {
   "display_name": "base",
   "language": "python",
   "name": "python3"
  },
  "language_info": {
   "codemirror_mode": {
    "name": "ipython",
    "version": 3
   },
   "file_extension": ".py",
   "mimetype": "text/x-python",
   "name": "python",
   "nbconvert_exporter": "python",
   "pygments_lexer": "ipython3",
   "version": "3.9.12"
  }
 },
 "nbformat": 4,
 "nbformat_minor": 2
}
