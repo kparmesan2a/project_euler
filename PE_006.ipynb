{
 "cells": [
  {
   "cell_type": "markdown",
   "metadata": {},
   "source": [
    "## Problem 6 - Sum Square Difference\n",
    "### Difficulty - 5%\n",
    "\n",
    "#### <p>The sum of the squares of the first ten natural numbers is,</p> \n",
    "#### $$1^2 + 2^2 + ... + 10^2 = 385.$$\n",
    "#### <p>The square of the sum of the first ten natural numbers is,</p>\n",
    "#### $$(1 + 2 + ... + 10)^2 = 55^2 = 3025.$$\n",
    "#### <p>Hence the difference between the sum of the squares of the first ten natural numbers and the square of the sum is $3025 - 385 = 2640$.</p>\n",
    "#### <p>Find the difference between the sum of the squares of the first one hundred natural numbers and the square of the sum.</p>"
   ]
  },
  {
   "cell_type": "markdown",
   "metadata": {},
   "source": [
    "This can just be done directly."
   ]
  },
  {
   "cell_type": "code",
   "execution_count": 5,
   "metadata": {},
   "outputs": [],
   "source": [
    "def diffSumSquare(n):\n",
    "    sumSquare = 0\n",
    "    squareSum = 0\n",
    "\n",
    "    for i in range(1, n + 1):\n",
    "        sumSquare += i ** 2\n",
    "        squareSum += i\n",
    "    squareSum = squareSum **2\n",
    "\n",
    "    return squareSum - sumSquare\n"
   ]
  },
  {
   "cell_type": "code",
   "execution_count": 6,
   "metadata": {},
   "outputs": [
    {
     "data": {
      "text/plain": [
       "25164150"
      ]
     },
     "execution_count": 6,
     "metadata": {},
     "output_type": "execute_result"
    }
   ],
   "source": [
    "N = 100\n",
    "\n",
    "diffSumSquare(N)"
   ]
  }
 ],
 "metadata": {
  "kernelspec": {
   "display_name": "base",
   "language": "python",
   "name": "python3"
  },
  "language_info": {
   "codemirror_mode": {
    "name": "ipython",
    "version": 3
   },
   "file_extension": ".py",
   "mimetype": "text/x-python",
   "name": "python",
   "nbconvert_exporter": "python",
   "pygments_lexer": "ipython3",
   "version": "3.9.12"
  }
 },
 "nbformat": 4,
 "nbformat_minor": 2
}
