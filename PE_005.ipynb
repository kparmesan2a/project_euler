{
 "cells": [
  {
   "cell_type": "markdown",
   "metadata": {},
   "source": [
    "## Problem 5 - Smallest Multiple\n",
    "### Difficulty - 5%\n",
    "\n",
    "#### 2520 is the smallest number that can be divided by each of the numbers from 1 - 10 without any remainder.\n",
    "\n",
    "#### What is the smallest positive number that is evenly divisible by all of the numbers from 1 - 20?"
   ]
  },
  {
   "cell_type": "markdown",
   "metadata": {},
   "source": [
    "First, write a function that returns True if a number is prime."
   ]
  },
  {
   "cell_type": "code",
   "execution_count": 22,
   "metadata": {},
   "outputs": [],
   "source": [
    "import math\n",
    "\n",
    "def isPrime(n):\n",
    "    if n == 2:\n",
    "        return True\n",
    "    \n",
    "    if n%2 == 0:\n",
    "        return False\n",
    "    else:\n",
    "        for i in range(3, math.floor(math.sqrt(n)) + 1, 2):\n",
    "            if n%i == 0:\n",
    "                return False\n",
    "        return True"
   ]
  },
  {
   "cell_type": "markdown",
   "metadata": {},
   "source": [
    "Next, go through each prime less than 20. Find the highest power of each prime less than 20 that is still less than 20, then multiply all of these together."
   ]
  },
  {
   "cell_type": "code",
   "execution_count": 25,
   "metadata": {},
   "outputs": [],
   "source": [
    "def small_mult(n):\n",
    "    product = 1\n",
    "\n",
    "    for i in range(2, n):\n",
    "        if isPrime(i):\n",
    "            j = 1\n",
    "            while i ** (j+1) <= n:\n",
    "                j += 1\n",
    "            product *= (i ** j)\n",
    "    \n",
    "    return product\n",
    "            "
   ]
  },
  {
   "cell_type": "code",
   "execution_count": 26,
   "metadata": {},
   "outputs": [
    {
     "data": {
      "text/plain": [
       "232792560"
      ]
     },
     "execution_count": 26,
     "metadata": {},
     "output_type": "execute_result"
    }
   ],
   "source": [
    "N = 20\n",
    "\n",
    "small_mult(N)"
   ]
  }
 ],
 "metadata": {
  "kernelspec": {
   "display_name": "base",
   "language": "python",
   "name": "python3"
  },
  "language_info": {
   "codemirror_mode": {
    "name": "ipython",
    "version": 3
   },
   "file_extension": ".py",
   "mimetype": "text/x-python",
   "name": "python",
   "nbconvert_exporter": "python",
   "pygments_lexer": "ipython3",
   "version": "3.9.12"
  }
 },
 "nbformat": 4,
 "nbformat_minor": 2
}
