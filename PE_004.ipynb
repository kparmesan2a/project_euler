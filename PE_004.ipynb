{
 "cells": [
  {
   "cell_type": "markdown",
   "metadata": {},
   "source": [
    "## Problem 4 - Largest Palindrome Product\n",
    "### Difficulty - 5%\n",
    "\n",
    "#### A palindromic number reads the same both ways. The largest palindrome made from the product of two 2-digit numbers is 9009 = 99 * 91.\n",
    "\n",
    "#### What is the largest palindrome made from the product of two 3-digit numbers?"
   ]
  },
  {
   "cell_type": "markdown",
   "metadata": {},
   "source": [
    "This can be done mostly directly. The only \"trick\" is that the largest palindrome will always be the product of two numbers both starting with 9."
   ]
  },
  {
   "cell_type": "code",
   "execution_count": 7,
   "metadata": {},
   "outputs": [],
   "source": [
    "def palindrome(num_digits):\n",
    "    palindrome = 0  #placeholder, for now\n",
    "\n",
    "    ii = 9 * 10 ** (num_digits - 1)\n",
    "    jj = 9 * 10 ** (num_digits - 1)\n",
    "\n",
    "    for i in range(0, 10 ** (num_digits-1)):\n",
    "        for j in range(0, 10 ** (num_digits-1)):\n",
    "            number = (ii + i) * (jj + j)\n",
    "            str_num = str(number)\n",
    "\n",
    "            if str_num == str_num[::-1]:\n",
    "                palindrome = number\n",
    "    \n",
    "    return palindrome"
   ]
  },
  {
   "cell_type": "code",
   "execution_count": 8,
   "metadata": {},
   "outputs": [
    {
     "data": {
      "text/plain": [
       "906609"
      ]
     },
     "execution_count": 8,
     "metadata": {},
     "output_type": "execute_result"
    }
   ],
   "source": [
    "N = 3\n",
    "\n",
    "palindrome(N)"
   ]
  }
 ],
 "metadata": {
  "kernelspec": {
   "display_name": "base",
   "language": "python",
   "name": "python3"
  },
  "language_info": {
   "codemirror_mode": {
    "name": "ipython",
    "version": 3
   },
   "file_extension": ".py",
   "mimetype": "text/x-python",
   "name": "python",
   "nbconvert_exporter": "python",
   "pygments_lexer": "ipython3",
   "version": "3.9.12"
  }
 },
 "nbformat": 4,
 "nbformat_minor": 2
}
